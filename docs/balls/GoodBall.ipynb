{
 "cells": [
  {
   "cell_type": "markdown",
   "metadata": {},
   "source": [
    "# GoodBall\n",
    "\n",
    "Located in the GoodBall class"
   ]
  },
  {
   "cell_type": "code",
   "execution_count": null,
   "metadata": {},
   "outputs": [],
   "source": [
    "/**\n",
    " * @brief Construct a new Good Ball:: Good Ball object, at seclect position, changes about every second\n",
    " * \n",
    " * @param _x \n",
    " * @param _y \n",
    " */\n",
    "GoodBall::GoodBall(int _x, int _y);\n",
    "\n",
    "/**\n",
    " * @brief Renders the Good Ball on screen at the chosen position\n",
    " * \n",
    " * @param renderer \n",
    " */\n",
    "\n",
    "void GoodBall::Render(SDL_Renderer *renderer);\n",
    "\n",
    "/**\n",
    " * @brief Handles the click events for the Good Ball, gives point on click\n",
    " * @param event\n",
    " */\n",
    "\n",
    "void GoodBall::HandleClick(SDL_MouseButtonEvent *event);\n",
    "\n",
    "/**\n",
    " * @brief Handles the chosen position of the Good Ball if a certain amount of ticks have passed\n",
    " * \n",
    " */\n",
    "\n",
    "void GoodBall::Move();"
   ]
  }
 ],
 "metadata": {
  "language_info": {
   "name": "c++"
  },
  "orig_nbformat": 4
 },
 "nbformat": 4,
 "nbformat_minor": 2
}
